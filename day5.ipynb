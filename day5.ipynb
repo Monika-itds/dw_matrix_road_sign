{
  "nbformat": 4,
  "nbformat_minor": 0,
  "metadata": {
    "colab": {
      "name": "day5.ipynb",
      "provenance": [],
      "collapsed_sections": [],
      "mount_file_id": "1WlErytw2ykG_LuES6ahKexm0r_r3wzvY",
      "authorship_tag": "ABX9TyPj8szdWN0lrJ0j0XWixUEY",
      "include_colab_link": true
    },
    "kernelspec": {
      "name": "python3",
      "display_name": "Python 3"
    },
    "accelerator": "GPU"
  },
  "cells": [
    {
      "cell_type": "markdown",
      "metadata": {
        "id": "view-in-github",
        "colab_type": "text"
      },
      "source": [
        "<a href=\"https://colab.research.google.com/github/Monika-itds/dw_matrix_road_sign/blob/master/day5.ipynb\" target=\"_parent\"><img src=\"https://colab.research.google.com/assets/colab-badge.svg\" alt=\"Open In Colab\"/></a>"
      ]
    },
    {
      "cell_type": "code",
      "metadata": {
        "id": "bhvk26wvQt2K",
        "colab_type": "code",
        "colab": {
          "base_uri": "https://localhost:8080/",
          "height": 197
        },
        "outputId": "f5a286e5-7384-4ced-8916-98077ba28186"
      },
      "source": [
        "! pip install hyperopt"
      ],
      "execution_count": 1,
      "outputs": [
        {
          "output_type": "stream",
          "text": [
            "Requirement already satisfied: hyperopt in /usr/local/lib/python3.6/dist-packages (0.1.2)\n",
            "Requirement already satisfied: scipy in /usr/local/lib/python3.6/dist-packages (from hyperopt) (1.4.1)\n",
            "Requirement already satisfied: future in /usr/local/lib/python3.6/dist-packages (from hyperopt) (0.16.0)\n",
            "Requirement already satisfied: tqdm in /usr/local/lib/python3.6/dist-packages (from hyperopt) (4.38.0)\n",
            "Requirement already satisfied: networkx in /usr/local/lib/python3.6/dist-packages (from hyperopt) (2.4)\n",
            "Requirement already satisfied: numpy in /usr/local/lib/python3.6/dist-packages (from hyperopt) (1.18.2)\n",
            "Requirement already satisfied: six in /usr/local/lib/python3.6/dist-packages (from hyperopt) (1.12.0)\n",
            "Requirement already satisfied: pymongo in /usr/local/lib/python3.6/dist-packages (from hyperopt) (3.10.1)\n",
            "Requirement already satisfied: decorator>=4.3.0 in /usr/local/lib/python3.6/dist-packages (from networkx->hyperopt) (4.4.2)\n"
          ],
          "name": "stdout"
        }
      ]
    },
    {
      "cell_type": "code",
      "metadata": {
        "id": "ETDdg7HtRX58",
        "colab_type": "code",
        "colab": {
          "base_uri": "https://localhost:8080/",
          "height": 52
        },
        "outputId": "6515e12e-10a2-4116-ce45-3e38e576b9a3"
      },
      "source": [
        "import pandas as pd\n",
        "import numpy as np\n",
        "import os\n",
        "import datetime\n",
        "\n",
        "import tensorflow as tf\n",
        "from tensorflow.keras.models import Sequential\n",
        "from tensorflow.keras.layers import Conv2D, MaxPool2D, Dense, Flatten, Dropout\n",
        "from tensorflow.keras.utils import to_categorical\n",
        "\n",
        "%load_ext tensorboard \n",
        "\n",
        "import matplotlib.pyplot as plt\n",
        "from skimage import color, exposure\n",
        "\n",
        "from sklearn.metrics import accuracy_score\n",
        "\n",
        "from hyperopt import hp, STATUS_OK, tpe, Trials, fmin"
      ],
      "execution_count": 13,
      "outputs": [
        {
          "output_type": "stream",
          "text": [
            "The tensorboard extension is already loaded. To reload it, use:\n",
            "  %reload_ext tensorboard\n"
          ],
          "name": "stdout"
        }
      ]
    },
    {
      "cell_type": "code",
      "metadata": {
        "id": "ZfL60GchRX7-",
        "colab_type": "code",
        "colab": {
          "base_uri": "https://localhost:8080/",
          "height": 35
        },
        "outputId": "4a5b7d85-5aa7-4333-8b76-44dd58c6ad06"
      },
      "source": [
        "cd '/content/drive/My Drive/Colab Notebooks/matrix/matrix_three/dw_matrix_road_sign'"
      ],
      "execution_count": 3,
      "outputs": [
        {
          "output_type": "stream",
          "text": [
            "/content/drive/My Drive/Colab Notebooks/matrix/matrix_three/dw_matrix_road_sign\n"
          ],
          "name": "stdout"
        }
      ]
    },
    {
      "cell_type": "code",
      "metadata": {
        "id": "2yVvywWBRst5",
        "colab_type": "code",
        "colab": {}
      },
      "source": [
        "train = pd.read_pickle ('data/train.p')\n",
        "test = pd.read_pickle ('data/test.p')\n",
        "\n",
        "X_train, y_train = train ['features'], train ['labels']\n",
        "X_test, y_test = test ['features'], test ['labels']"
      ],
      "execution_count": 0,
      "outputs": []
    },
    {
      "cell_type": "code",
      "metadata": {
        "id": "NGPHKcbnRswR",
        "colab_type": "code",
        "colab": {}
      },
      "source": [
        "if y_train.ndim == 1: y_train = to_categorical(y_train)\n",
        "if y_test.ndim == 1: y_test = to_categorical(y_test)\n",
        "\n",
        "input_shape= X_train.shape[1:]\n",
        "num_classes = y_train.shape[1]"
      ],
      "execution_count": 0,
      "outputs": []
    },
    {
      "cell_type": "code",
      "metadata": {
        "id": "mXiAQZFkRszo",
        "colab_type": "code",
        "colab": {}
      },
      "source": [
        "def train_model(model, X_train, y_train, params_fit={}):\n",
        "    model.compile(loss='categorical_crossentropy', optimizer = 'Adam', metrics=['accuracy'])\n",
        "    \n",
        "    logdir = os.path.join('logs', datetime.datetime.now().strftime('%Y%m%d-%H%M%S')) #sciezka, w ktorej trzymane beda logi\n",
        "    tensorboard_callback = tf.keras.callbacks.TensorBoard(logdir,histogram_freq=1)\n",
        "\n",
        "    model.fit(\n",
        "        X_train, \n",
        "        y_train,\n",
        "        batch_size=params_fit.get('batch_size', 128),\n",
        "        epochs=params_fit.get('epochs', 5),\n",
        "        verbose=params_fit.get ('verbose', 1),\n",
        "        validation_data=params_fit.get('validation_data', (X_train, y_train)),\n",
        "        callbacks = [tensorboard_callback]\n",
        "    )\n",
        "\n",
        "    return model\n",
        "\n",
        "def predict (model_trained, X_test, y_test, scoring=accuracy_score):\n",
        "  \n",
        "  y_test_norm = np.argmax(y_test, axis = 1)\n",
        "  \n",
        "  y_pred_prob = model_trained.predict(X_test)\n",
        "  y_pred = np.argmax(y_pred_prob, axis = 1)\n",
        "  \n",
        "  return scoring(y_test_norm, y_pred)"
      ],
      "execution_count": 0,
      "outputs": []
    },
    {
      "cell_type": "code",
      "metadata": {
        "id": "i6-a5pHFRX_W",
        "colab_type": "code",
        "colab": {}
      },
      "source": [
        "def get_cnn_v5(input_shape, num_classes):\n",
        "  return Sequential([\n",
        "    Conv2D(filters=32,kernel_size=(3,3), activation='relu', input_shape=input_shape),\n",
        "    Conv2D(filters=32,kernel_size=(3,3), activation='relu', padding='same'), \n",
        "    MaxPool2D(),\n",
        "    Dropout(0.3),\n",
        "\n",
        "    Conv2D(filters=64,kernel_size=(3,3), activation='relu', padding='same'),\n",
        "    Conv2D(filters=64,kernel_size=(3,3), activation='relu'),\n",
        "    MaxPool2D(),\n",
        "    Dropout(0.3),\n",
        "\n",
        "    Conv2D(filters=64,kernel_size=(3,3), activation='relu', padding='same'),\n",
        "    Conv2D(filters=64,kernel_size=(3,3), activation='relu'),\n",
        "    MaxPool2D(),\n",
        "    Dropout(0.3),\n",
        "\n",
        "    Flatten(),  \n",
        "\n",
        "    Dense(1024, activation='relu'),\n",
        "    Dropout(0.3), #Dropuot()-jest po to, aby model nie przeuczył się za szybko\n",
        "\n",
        "    Dense(1024, activation='relu'),\n",
        "    Dropout(0.3),\n",
        "\n",
        "    Dense(num_classes, activation='softmax'),\n",
        "    ])\n"
      ],
      "execution_count": 0,
      "outputs": []
    },
    {
      "cell_type": "code",
      "metadata": {
        "colab_type": "code",
        "outputId": "c8a82b18-531e-41e3-d709-c19fcd4bafe5",
        "id": "ofJaxUQi73hN",
        "colab": {
          "base_uri": "https://localhost:8080/",
          "height": 232
        }
      },
      "source": [
        "model = get_cnn_v5(input_shape, num_classes)\n",
        "model_trained = train_model(model,X_train, y_train)\n",
        "\n",
        "predict(model_trained, X_test, y_test)"
      ],
      "execution_count": 23,
      "outputs": [
        {
          "output_type": "stream",
          "text": [
            "Epoch 1/5\n",
            "272/272 [==============================] - 6s 23ms/step - loss: 2.5877 - accuracy: 0.2824 - val_loss: 1.0561 - val_accuracy: 0.6565\n",
            "Epoch 2/5\n",
            "272/272 [==============================] - 6s 22ms/step - loss: 0.9510 - accuracy: 0.6940 - val_loss: 0.2442 - val_accuracy: 0.9284\n",
            "Epoch 3/5\n",
            "272/272 [==============================] - 6s 22ms/step - loss: 0.4879 - accuracy: 0.8486 - val_loss: 0.1089 - val_accuracy: 0.9674\n",
            "Epoch 4/5\n",
            "272/272 [==============================] - 6s 22ms/step - loss: 0.2959 - accuracy: 0.9095 - val_loss: 0.0625 - val_accuracy: 0.9818\n",
            "Epoch 5/5\n",
            "272/272 [==============================] - 6s 22ms/step - loss: 0.2263 - accuracy: 0.9333 - val_loss: 0.0485 - val_accuracy: 0.9864\n"
          ],
          "name": "stdout"
        },
        {
          "output_type": "execute_result",
          "data": {
            "text/plain": [
              "0.9616780045351474"
            ]
          },
          "metadata": {
            "tags": []
          },
          "execution_count": 23
        }
      ]
    },
    {
      "cell_type": "code",
      "metadata": {
        "id": "NDsGuw3-94o6",
        "colab_type": "code",
        "colab": {}
      },
      "source": [
        "def get_model(params):\n",
        "  return Sequential([\n",
        "    Conv2D(filters=32,kernel_size=(3,3), activation='relu', input_shape=input_shape),\n",
        "    Conv2D(filters=32,kernel_size=(3,3), activation='relu', padding='same'), \n",
        "    MaxPool2D(),\n",
        "    Dropout(params['dropout_cnn_block_one']),\n",
        "\n",
        "    Conv2D(filters=64,kernel_size=(3,3), activation='relu', padding='same'),\n",
        "    Conv2D(filters=64,kernel_size=(3,3), activation='relu'),\n",
        "    MaxPool2D(),\n",
        "    Dropout(params['dropout_cnn_block_two']),\n",
        "\n",
        "    Conv2D(filters=128,kernel_size=(3,3), activation='relu', padding='same'),\n",
        "    Conv2D(filters=128,kernel_size=(3,3), activation='relu'),\n",
        "    MaxPool2D(),\n",
        "    Dropout(params['dropout_cnn_block_three']),\n",
        "\n",
        "    Flatten(),  \n",
        "\n",
        "    Dense(1024, activation='relu'),\n",
        "    Dropout(params['dropout_dense_block_one']),\n",
        "\n",
        "    Dense(1024, activation='relu'),\n",
        "    Dropout(params['dropout_dense_block_two']),\n",
        "\n",
        "    Dense(num_classes, activation='softmax'),\n",
        "    ])\n"
      ],
      "execution_count": 0,
      "outputs": []
    },
    {
      "cell_type": "code",
      "metadata": {
        "colab_type": "code",
        "id": "zcGR-Tof74Ln",
        "colab": {}
      },
      "source": [
        "def func_obj (params):\n",
        "  model = get_model(params)\n",
        "  model.compile(loss='categorical_crossentropy', optimizer = 'Adam', metrics=['accuracy'])\n",
        "  \n",
        "  model.fit(\n",
        "      X_train, \n",
        "      y_train,\n",
        "      batch_size=int(params.get('batch_size', 128)),\n",
        "      epochs=5,\n",
        "      verbose=0\n",
        "  )\n",
        "\n",
        "  score = model.evaluate(X_test,y_test, verbose=0)\n",
        "  accuracy = score[1]\n",
        "  print(params, 'accuracy={}'.format(accuracy))\n",
        "\n",
        "  return {'loss':-accuracy, 'status': STATUS_OK, 'model':model}\n"
      ],
      "execution_count": 0,
      "outputs": []
    },
    {
      "cell_type": "code",
      "metadata": {
        "id": "nNGzdtkN784J",
        "colab_type": "code",
        "colab": {
          "base_uri": "https://localhost:8080/",
          "height": 1000
        },
        "outputId": "acb4734f-4e81-45bb-fe0d-833b2e056c53"
      },
      "source": [
        "#optymalizacja parametrow dropout i batch_size, tj.wybranie przestrzeni dla modelu, w ktorej moze sprawdzac poszczegolne wartosci parametrow\n",
        "space = {\n",
        "    'batch_size':hp.quniform('batch_size', 100, 200,10),\n",
        "    'dropout_cnn_block_one':hp.uniform('dropout_cnn_block_one', 0.3, 0.5),\n",
        "    'dropout_cnn_block_two':hp.uniform('dropout_cnn_block_two', 0.3, 0.5),\n",
        "    'dropout_cnn_block_three':hp.uniform('dropout_cnn_block_three', 0.3, 0.5),\n",
        "\n",
        "    'dropout_dense_block_one':hp.uniform('dropout_dense_block_one', 0.3, 0.7),\n",
        "    'dropout_dense_block_two':hp.uniform('dropout_dense_block_two', 0.3, 0.7),\n",
        "}\n",
        "\n",
        "best = fmin(\n",
        "    func_obj,\n",
        "    space,\n",
        "    tpe.suggest,#algorytm, ktory uzywamy\n",
        "    30,#ilisc wykonywanych prob\n",
        "    Trials()#tu beda zapisywane wyniki\n",
        "\n",
        ")"
      ],
      "execution_count": 29,
      "outputs": [
        {
          "output_type": "stream",
          "text": [
            "{'batch_size': 100.0, 'dropout_cnn_block_one': 0.3030487311413978, 'dropout_cnn_block_three': 0.45297140452096285, 'dropout_cnn_block_two': 0.3300768606237274, 'dropout_dense_block_one': 0.5352344645162823, 'dropout_dense_block_two': 0.4314272169921096}\n",
            "accuracy=0.9501133561134338\n",
            "{'batch_size': 100.0, 'dropout_cnn_block_one': 0.47521239671803706, 'dropout_cnn_block_three': 0.32892436782719564, 'dropout_cnn_block_two': 0.34906328890066757, 'dropout_dense_block_one': 0.506118148538518, 'dropout_dense_block_two': 0.5673378219821469}\n",
            "accuracy=0.880725622177124\n",
            "{'batch_size': 120.0, 'dropout_cnn_block_one': 0.36976738991849323, 'dropout_cnn_block_three': 0.3465155695363398, 'dropout_cnn_block_two': 0.43398746013522893, 'dropout_dense_block_one': 0.6644494858015565, 'dropout_dense_block_two': 0.6583275947353778}\n",
            "accuracy=0.8925170302391052\n",
            "{'batch_size': 150.0, 'dropout_cnn_block_one': 0.4982272135497968, 'dropout_cnn_block_three': 0.49200321639918365, 'dropout_cnn_block_two': 0.3884408047409427, 'dropout_dense_block_one': 0.4330023844590817, 'dropout_dense_block_two': 0.5478345130016828}\n",
            "accuracy=0.8494331240653992\n",
            "{'batch_size': 140.0, 'dropout_cnn_block_one': 0.4075112264459624, 'dropout_cnn_block_three': 0.38343840344783275, 'dropout_cnn_block_two': 0.45865067433300066, 'dropout_dense_block_one': 0.4965791359460275, 'dropout_dense_block_two': 0.5375887046200437}\n",
            "accuracy=0.9430838823318481\n",
            "{'batch_size': 160.0, 'dropout_cnn_block_one': 0.45294594009172684, 'dropout_cnn_block_three': 0.34438893925751357, 'dropout_cnn_block_two': 0.34494054763213045, 'dropout_dense_block_one': 0.3372164595683854, 'dropout_dense_block_two': 0.6457633585741571}\n",
            "accuracy=0.9337868690490723\n",
            "{'batch_size': 120.0, 'dropout_cnn_block_one': 0.3933578144241488, 'dropout_cnn_block_three': 0.39065186088815185, 'dropout_cnn_block_two': 0.39880471436821135, 'dropout_dense_block_one': 0.5427323287449535, 'dropout_dense_block_two': 0.5637944477397108}\n",
            "accuracy=0.9351474046707153\n",
            "{'batch_size': 150.0, 'dropout_cnn_block_one': 0.3087237746117418, 'dropout_cnn_block_three': 0.3211149844568784, 'dropout_cnn_block_two': 0.3046912304751306, 'dropout_dense_block_one': 0.364041043498285, 'dropout_dense_block_two': 0.6907428763410485}\n",
            "accuracy=0.9546485543251038\n",
            "{'batch_size': 160.0, 'dropout_cnn_block_one': 0.39833921886945745, 'dropout_cnn_block_three': 0.45988934735934883, 'dropout_cnn_block_two': 0.4797666293309206, 'dropout_dense_block_one': 0.5298904669447768, 'dropout_dense_block_two': 0.4616808330470112}\n",
            "accuracy=0.9079365134239197\n",
            "{'batch_size': 200.0, 'dropout_cnn_block_one': 0.3031964733144605, 'dropout_cnn_block_three': 0.4682135196215281, 'dropout_cnn_block_two': 0.3893738974907834, 'dropout_dense_block_one': 0.5135904179991418, 'dropout_dense_block_two': 0.6627448666957707}\n",
            "accuracy=0.8505668640136719\n",
            "{'batch_size': 150.0, 'dropout_cnn_block_one': 0.48868070502164335, 'dropout_cnn_block_three': 0.32774450177676284, 'dropout_cnn_block_two': 0.4041321026444345, 'dropout_dense_block_one': 0.5672186216242152, 'dropout_dense_block_two': 0.6588603990228878}\n",
            "accuracy=0.8714285492897034\n",
            "{'batch_size': 200.0, 'dropout_cnn_block_one': 0.4508779073393231, 'dropout_cnn_block_three': 0.39981985750577453, 'dropout_cnn_block_two': 0.499789565953232, 'dropout_dense_block_one': 0.6409900743512923, 'dropout_dense_block_two': 0.6033748904474459}\n",
            "accuracy=0.6798185706138611\n",
            "{'batch_size': 180.0, 'dropout_cnn_block_one': 0.42966376337069534, 'dropout_cnn_block_three': 0.32347253954183713, 'dropout_cnn_block_two': 0.49773417071391723, 'dropout_dense_block_one': 0.6154099502837753, 'dropout_dense_block_two': 0.6874275621316172}\n",
            "accuracy=0.6090703010559082\n",
            "{'batch_size': 190.0, 'dropout_cnn_block_one': 0.3712223214855353, 'dropout_cnn_block_three': 0.46389046762411634, 'dropout_cnn_block_two': 0.3747570742918527, 'dropout_dense_block_one': 0.3252601164961267, 'dropout_dense_block_two': 0.6908071040885521}\n",
            "accuracy=0.9124716520309448\n",
            "{'batch_size': 120.0, 'dropout_cnn_block_one': 0.4113421817263208, 'dropout_cnn_block_three': 0.3784795646522719, 'dropout_cnn_block_two': 0.48144831314500514, 'dropout_dense_block_one': 0.5247067487858422, 'dropout_dense_block_two': 0.351442804360208}\n",
            "accuracy=0.9092970490455627\n",
            "{'batch_size': 160.0, 'dropout_cnn_block_one': 0.31022078450412727, 'dropout_cnn_block_three': 0.4653730687891774, 'dropout_cnn_block_two': 0.4084892639501479, 'dropout_dense_block_one': 0.6054023678009124, 'dropout_dense_block_two': 0.42390506339730344}\n",
            "accuracy=0.9292517304420471\n",
            "{'batch_size': 140.0, 'dropout_cnn_block_one': 0.3368547389619327, 'dropout_cnn_block_three': 0.3021211025570537, 'dropout_cnn_block_two': 0.3376585894767309, 'dropout_dense_block_one': 0.3351761365436263, 'dropout_dense_block_two': 0.6402720520047045}\n",
            "accuracy=0.9680272340774536\n",
            "{'batch_size': 180.0, 'dropout_cnn_block_one': 0.42238268033328874, 'dropout_cnn_block_three': 0.40415804338837596, 'dropout_cnn_block_two': 0.48310596962823754, 'dropout_dense_block_one': 0.4545475210193818, 'dropout_dense_block_two': 0.5867809915915048}\n",
            "accuracy=0.8900226950645447\n",
            "{'batch_size': 160.0, 'dropout_cnn_block_one': 0.3655449212284387, 'dropout_cnn_block_three': 0.3656761886866585, 'dropout_cnn_block_two': 0.3796306518877677, 'dropout_dense_block_one': 0.5215540883131335, 'dropout_dense_block_two': 0.4344863753616546}\n",
            "accuracy=0.9510204195976257\n",
            "{'batch_size': 200.0, 'dropout_cnn_block_one': 0.395029677382588, 'dropout_cnn_block_three': 0.4421351853512045, 'dropout_cnn_block_two': 0.40387682095427724, 'dropout_dense_block_one': 0.3849825008459902, 'dropout_dense_block_two': 0.6311596986858873}\n",
            "accuracy=0.9070294499397278\n",
            "{'batch_size': 130.0, 'dropout_cnn_block_one': 0.33198302949210173, 'dropout_cnn_block_three': 0.30100932411470616, 'dropout_cnn_block_two': 0.31526512879142166, 'dropout_dense_block_one': 0.3695626425801996, 'dropout_dense_block_two': 0.3097118054295678}\n",
            "accuracy=0.9696145057678223\n",
            "{'batch_size': 130.0, 'dropout_cnn_block_one': 0.3320464621295213, 'dropout_cnn_block_three': 0.3067189241101676, 'dropout_cnn_block_two': 0.31251548290159065, 'dropout_dense_block_one': 0.4093292090683866, 'dropout_dense_block_two': 0.33108085644455965}\n",
            "accuracy=0.9523809552192688\n",
            "{'batch_size': 130.0, 'dropout_cnn_block_one': 0.3367296780495849, 'dropout_cnn_block_three': 0.3012659981552605, 'dropout_cnn_block_two': 0.32217589890876885, 'dropout_dense_block_one': 0.30856392449987835, 'dropout_dense_block_two': 0.36435814902017843}\n",
            "accuracy=0.9541950225830078\n",
            "{'batch_size': 110.0, 'dropout_cnn_block_one': 0.33657499011475417, 'dropout_cnn_block_three': 0.4249231099880337, 'dropout_cnn_block_two': 0.36029241492168, 'dropout_dense_block_one': 0.3602913086158704, 'dropout_dense_block_two': 0.5163849609668348}\n",
            "accuracy=0.9571428298950195\n",
            "{'batch_size': 140.0, 'dropout_cnn_block_one': 0.3532809782984973, 'dropout_cnn_block_three': 0.3555695591102546, 'dropout_cnn_block_two': 0.30094369514286556, 'dropout_dense_block_one': 0.47442159921299903, 'dropout_dense_block_two': 0.48622048396062373}\n",
            "accuracy=0.9503401517868042\n",
            "{'batch_size': 140.0, 'dropout_cnn_block_one': 0.32266946432533866, 'dropout_cnn_block_three': 0.3047653427099982, 'dropout_cnn_block_two': 0.33315889641808505, 'dropout_dense_block_one': 0.30633345659196587, 'dropout_dense_block_two': 0.306304026474017}\n",
            "accuracy=0.9555555582046509\n",
            "{'batch_size': 130.0, 'dropout_cnn_block_one': 0.3519152805223391, 'dropout_cnn_block_three': 0.31231755874194594, 'dropout_cnn_block_two': 0.36045207451231964, 'dropout_dense_block_one': 0.4067337741409983, 'dropout_dense_block_two': 0.6173027150182272}\n",
            "accuracy=0.9462584853172302\n",
            "{'batch_size': 110.0, 'dropout_cnn_block_one': 0.321333391021745, 'dropout_cnn_block_three': 0.3405955305668445, 'dropout_cnn_block_two': 0.3141117136425272, 'dropout_dense_block_one': 0.3545591771689977, 'dropout_dense_block_two': 0.3824117951798986}\n",
            "accuracy=0.9630385637283325\n",
            "{'batch_size': 110.0, 'dropout_cnn_block_one': 0.3545053250028894, 'dropout_cnn_block_three': 0.4921066163559861, 'dropout_cnn_block_two': 0.33725875215572865, 'dropout_dense_block_one': 0.3940719535607112, 'dropout_dense_block_two': 0.39705070383070823}\n",
            "accuracy=0.9650793671607971\n",
            "{'batch_size': 170.0, 'dropout_cnn_block_one': 0.3774642257822544, 'dropout_cnn_block_three': 0.36503282559031475, 'dropout_cnn_block_two': 0.3241186776123491, 'dropout_dense_block_one': 0.43270322410352885, 'dropout_dense_block_two': 0.30172374567598065}\n",
            "accuracy=0.9616780281066895\n",
            "100%|██████████| 30/30 [10:02<00:00, 20.08s/it, best loss: -0.9696145057678223]\n"
          ],
          "name": "stdout"
        }
      ]
    },
    {
      "cell_type": "code",
      "metadata": {
        "id": "_j5z0uz4787h",
        "colab_type": "code",
        "colab": {}
      },
      "source": [
        ""
      ],
      "execution_count": 0,
      "outputs": []
    }
  ]
}